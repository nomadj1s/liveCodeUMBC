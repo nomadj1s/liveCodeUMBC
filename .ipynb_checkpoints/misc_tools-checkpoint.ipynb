{
 "cells": [
  {
   "cell_type": "markdown",
   "metadata": {},
   "source": [
    "# Miscellaneous Tools\n",
    "\n",
    "A set of tools used in our exercise."
   ]
  },
  {
   "cell_type": "markdown",
   "metadata": {},
   "source": [
    "## Import Things"
   ]
  },
  {
   "cell_type": "code",
   "execution_count": 1,
   "metadata": {
    "ExecuteTime": {
     "end_time": "2020-02-06T00:31:21.682445Z",
     "start_time": "2020-02-06T00:31:21.204695Z"
    }
   },
   "outputs": [],
   "source": [
    "import numpy as np\n",
    "import matplotlib.pyplot as plt"
   ]
  },
  {
   "cell_type": "markdown",
   "metadata": {},
   "source": [
    "## plotSeries"
   ]
  },
  {
   "cell_type": "code",
   "execution_count": 2,
   "metadata": {
    "ExecuteTime": {
     "end_time": "2020-02-06T00:31:21.764431Z",
     "start_time": "2020-02-06T00:31:21.688502Z"
    }
   },
   "outputs": [],
   "source": [
    "def plotSeries(y,x=None,xMin=None,xMax=None,xVert=None,yTitle='',xTitle='',\n",
    "               title='',labels=None,reverseLabels=False,savePath='',dpi=300,\n",
    "               useOffset=False, style='sci'):\n",
    "    '''\n",
    "    Plot a series of y-values (or multiple series) against a common x variable.\n",
    "    \n",
    "    Parameters\n",
    "    ----------\n",
    "    y: np.array\n",
    "        Array of y-axis values. Maximum number of series to plot is 39.\n",
    "    x: np.array\n",
    "        Common array of x-values\n",
    "    xMin: float\n",
    "        Minimum x-value to plot\n",
    "    xMax: float\n",
    "        Maximum x-value to plot\n",
    "    xVert: float\n",
    "        Float or array of vertical lines to plot\n",
    "    yTitle: string\n",
    "        Title for y-axis\n",
    "    xTitle: string\n",
    "        Title for x-axis\n",
    "    title: string\n",
    "        Title for entire figure\n",
    "    labels: list of strings\n",
    "        Labels for legend for each series of data in the plot\n",
    "    savePath : string\n",
    "        Where the file is saved\n",
    "    dpi : integer\n",
    "        Quality of png image\n",
    "    useOffset : boolean\n",
    "        Turns on or off axis offset\n",
    "    style : string\n",
    "        When 'plain', turns off scientific notation, 'sci' keeps it on.\n",
    "    \n",
    "    Returns\n",
    "    -------\n",
    "    None\n",
    "    '''\n",
    "    # make series at least 2D\n",
    "    y = np.atleast_2d(y)\n",
    "    \n",
    "    if x is None:\n",
    "        x = np.arange(y[0].size,step=1) + 1\n",
    "    else:\n",
    "        x = np.atleast_1d(x)\n",
    "    \n",
    "    if xMin is None:\n",
    "        xMin = x.min()\n",
    "    \n",
    "    if xMax is None:\n",
    "        xMax = x.max()\n",
    "    \n",
    "    assert y.shape[0] <= 39, 'Will only plot a maximum of 39 series'\n",
    "    assert x.size == y[0].size, 'x and y[i] must have same number of points'\n",
    "    \n",
    "    for i,yi in enumerate(y):\n",
    "        lineColor = 'C' + str(np.mod(i,10))\n",
    "        if i/10 == 0:\n",
    "            lineStyle = '-'\n",
    "        elif i/10 == 1:\n",
    "            lineStyle = '--'\n",
    "        elif i/10 == 2:\n",
    "            lineStyle = ':'\n",
    "        elif i/10 == 3:\n",
    "            lineStyle = '-.'\n",
    "        \n",
    "        try:\n",
    "            labeli = labels[i]\n",
    "        except:\n",
    "            labeli = None\n",
    "        \n",
    "        plt.plot(x[(x >= xMin) & (x <= xMax)],yi[(x >= xMin) & (x <= xMax)],\n",
    "                   lineColor,linestyle=lineStyle,label=labeli)\n",
    "        \n",
    "    plt.xlabel(xTitle)\n",
    "    plt.ylabel(yTitle)\n",
    "    plt.title(title)\n",
    "    \n",
    "    if labels is not None:\n",
    "        handles, labels = plt.gca().get_legend_handles_labels()\n",
    "        if reverseLabels:\n",
    "            handles.reverse()\n",
    "            labels.reverse()\n",
    "        plt.legend(handles,labels,loc='center left', bbox_to_anchor=(1,0.5))\n",
    "        \n",
    "    plt.grid()\n",
    "    \n",
    "    if xVert is not None:\n",
    "        xVert = np.atleast_1d(xVert) # make float iterable\n",
    "        for xc in xVert:\n",
    "            plt.axvline(x=xc,color='red',linestyle=':')\n",
    "    \n",
    "    if x[(x >= xMin) & (x <= xMax)].size < 6:\n",
    "        # Make small number of ticks into integers\n",
    "        plt.xticks(x[(x >= xMin) & (x <= xMax)])\n",
    "        \n",
    "    if savePath != '':\n",
    "        plt.savefig(savePath + '.png', bbox_inches='tight', dpi=dpi)\n",
    "        \n",
    "    plt.ticklabel_format(useOffset=useOffset, style=style)\n",
    "    plt.show()\n",
    "    return None"
   ]
  },
  {
   "cell_type": "code",
   "execution_count": 3,
   "metadata": {
    "ExecuteTime": {
     "end_time": "2020-02-06T00:31:23.564199Z",
     "start_time": "2020-02-06T00:31:21.770556Z"
    }
   },
   "outputs": [],
   "source": [
    "%%capture\n",
    "!jupyter nbconvert --to script misc_tools.ipynb\n",
    "\n",
    "# remove code that is not recognized by Python\n",
    "code = open('misc_tools.py','r').readlines()\n",
    "for i,line in enumerate(code):\n",
    "    if line.startswith('get_ipython') or line.startswith('# In['):\n",
    "        code[i] = ''\n",
    "out = open('misc_tools.py','w')\n",
    "out.writelines(code)\n",
    "out.close()"
   ]
  },
  {
   "cell_type": "code",
   "execution_count": null,
   "metadata": {},
   "outputs": [],
   "source": []
  }
 ],
 "metadata": {
  "kernelspec": {
   "display_name": "Python 3 (ipykernel)",
   "language": "python",
   "name": "python3"
  },
  "language_info": {
   "codemirror_mode": {
    "name": "ipython",
    "version": 3
   },
   "file_extension": ".py",
   "mimetype": "text/x-python",
   "name": "python",
   "nbconvert_exporter": "python",
   "pygments_lexer": "ipython3",
   "version": "3.9.13"
  },
  "toc": {
   "base_numbering": 1,
   "nav_menu": {},
   "number_sections": false,
   "sideBar": true,
   "skip_h1_title": true,
   "title_cell": "Table of Contents",
   "title_sidebar": "Contents",
   "toc_cell": false,
   "toc_position": {},
   "toc_section_display": true,
   "toc_window_display": false
  }
 },
 "nbformat": 4,
 "nbformat_minor": 4
}
