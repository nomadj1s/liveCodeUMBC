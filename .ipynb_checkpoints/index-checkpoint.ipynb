{
 "cells": [
  {
   "cell_type": "markdown",
   "metadata": {},
   "source": [
    "# Python Overview\n",
    "\n",
    "`Python` is a an `object oriented` programming language. Objects are, as they\n",
    "sound, things that we can use to hold numbers, to carry out commands, etc.\n",
    "Types of objects include variables, lists, class objects, and so on. Objects\n",
    "sometimes have attributes, which are themselves types of objects. Think\n",
    "of these as a sort of \"sub-object\" or a family. One object may be the parent\n",
    "object, and other objects are dependent on the parent. For example if we have\n",
    "and object `mom` and `son` is an attribute, then we would access\n",
    "`son` by calling `mom.son`. This will make more sense in a minute.\n",
    "\n",
    "**Note:** One import note is that we are using `Python2.7` in this tutorial.\n",
    "Python has been transitioning to `Python3` for over a decade. As of\n",
    "January 1, 2020, `Python2.7` will no longer be supported. So, after this\n",
    "tutorial, you should continue your exploration using `Python3`.\n",
    "\n",
    "More documentation for `Python2.7` is [here](https://docs.python.org/2/tutorial/index.html)."
   ]
  },
  {
   "cell_type": "markdown",
   "metadata": {},
   "source": [
    "## Simple Commands\n",
    "\n",
    "We can do simple commands in `Python`. For example, here are some calculations.\n",
    "To evaluate the calculations, highlight the cell and click the `Run` button above."
   ]
  },
  {
   "cell_type": "markdown",
   "metadata": {},
   "source": [
    "### Addition"
   ]
  },
  {
   "cell_type": "code",
   "execution_count": 5,
   "metadata": {
    "ExecuteTime": {
     "end_time": "2020-02-04T18:05:45.586570Z",
     "start_time": "2020-02-04T18:05:45.578224Z"
    }
   },
   "outputs": [
    {
     "data": {
      "text/plain": [
       "5"
      ]
     },
     "execution_count": 5,
     "metadata": {},
     "output_type": "execute_result"
    }
   ],
   "source": [
    "2 + 3"
   ]
  },
  {
   "cell_type": "markdown",
   "metadata": {},
   "source": [
    "### Multiplication"
   ]
  },
  {
   "cell_type": "code",
   "execution_count": 6,
   "metadata": {
    "ExecuteTime": {
     "end_time": "2020-02-04T18:05:47.803091Z",
     "start_time": "2020-02-04T18:05:47.794573Z"
    }
   },
   "outputs": [
    {
     "data": {
      "text/plain": [
       "6"
      ]
     },
     "execution_count": 6,
     "metadata": {},
     "output_type": "execute_result"
    }
   ],
   "source": [
    "2 * 3"
   ]
  },
  {
   "cell_type": "markdown",
   "metadata": {},
   "source": [
    "### Raising to a Power"
   ]
  },
  {
   "cell_type": "code",
   "execution_count": 7,
   "metadata": {
    "ExecuteTime": {
     "end_time": "2020-02-04T18:05:49.704890Z",
     "start_time": "2020-02-04T18:05:49.696261Z"
    }
   },
   "outputs": [
    {
     "data": {
      "text/plain": [
       "8"
      ]
     },
     "execution_count": 7,
     "metadata": {},
     "output_type": "execute_result"
    }
   ],
   "source": [
    "2**3"
   ]
  },
  {
   "cell_type": "markdown",
   "metadata": {},
   "source": [
    "### Division\n",
    "(notice we have to use `2.` to make the number 2 a `float`, or else the\n",
    "`/` operator behaves as a `floor` operator on integers)"
   ]
  },
  {
   "cell_type": "code",
   "execution_count": 8,
   "metadata": {
    "ExecuteTime": {
     "end_time": "2020-02-04T18:06:07.164374Z",
     "start_time": "2020-02-04T18:06:07.155882Z"
    }
   },
   "outputs": [
    {
     "data": {
      "text/plain": [
       "0.6666666666666666"
      ]
     },
     "execution_count": 8,
     "metadata": {},
     "output_type": "execute_result"
    }
   ],
   "source": [
    "2./3"
   ]
  },
  {
   "cell_type": "code",
   "execution_count": 9,
   "metadata": {
    "ExecuteTime": {
     "end_time": "2020-02-04T18:07:29.076003Z",
     "start_time": "2020-02-04T18:07:29.067661Z"
    }
   },
   "outputs": [
    {
     "data": {
      "text/plain": [
       "0"
      ]
     },
     "execution_count": 9,
     "metadata": {},
     "output_type": "execute_result"
    }
   ],
   "source": [
    "2/3"
   ]
  },
  {
   "cell_type": "markdown",
   "metadata": {},
   "source": [
    "## Variables\n",
    "\n",
    "We can also assign values to variables using the `=` sign. We can assign\n",
    "variables to be numbers or strings of text. Again, highlight a cell and\n",
    "click the `Run` button to see the results."
   ]
  },
  {
   "cell_type": "code",
   "execution_count": 10,
   "metadata": {
    "ExecuteTime": {
     "end_time": "2020-02-04T18:12:04.537395Z",
     "start_time": "2020-02-04T18:12:04.528943Z"
    }
   },
   "outputs": [
    {
     "data": {
      "text/plain": [
       "3"
      ]
     },
     "execution_count": 10,
     "metadata": {},
     "output_type": "execute_result"
    }
   ],
   "source": [
    "a = 3\n",
    "a"
   ]
  },
  {
   "cell_type": "code",
   "execution_count": 11,
   "metadata": {
    "ExecuteTime": {
     "end_time": "2020-02-04T18:12:05.255094Z",
     "start_time": "2020-02-04T18:12:05.246714Z"
    }
   },
   "outputs": [
    {
     "data": {
      "text/plain": [
       "'hello world'"
      ]
     },
     "execution_count": 11,
     "metadata": {},
     "output_type": "execute_result"
    }
   ],
   "source": [
    "a = 'hello world'\n",
    "a"
   ]
  },
  {
   "cell_type": "markdown",
   "metadata": {},
   "source": [
    "## Exercise 1\n",
    "\n",
    "Create two variables. Assign them numeric values, and then multiply them by\n",
    "each other. Display the results.\n",
    "\n",
    "Next, create two new variables. Assign one to be an integer and the other to be\n",
    "a string that is one letter. Multiply these two variables and display the results."
   ]
  },
  {
   "cell_type": "code",
   "execution_count": null,
   "metadata": {},
   "outputs": [],
   "source": []
  },
  {
   "cell_type": "markdown",
   "metadata": {},
   "source": [
    "## Lists\n",
    "\n",
    "Another useful type of object is a `list`. A list is an ordered collection\n",
    "of elements, each of which is itself some type of object. We create\n",
    "a list by using brackets and commas `[a,b,c,d]`. This list has four\n",
    "elements. The elements are indexed by position, starting at 0. So element\n",
    "`0` is `a` and element `3` is `d`. We can also index using negative numbers.\n",
    "Element `-1` is `d` and element `-3` is `b`.\n",
    "\n",
    "Below is a list of numbers, a list of strings, and a list of lists.\n",
    "\n",
    "We can add lists together and multiply them by integers."
   ]
  },
  {
   "cell_type": "code",
   "execution_count": 27,
   "metadata": {
    "ExecuteTime": {
     "end_time": "2020-02-04T18:25:35.499653Z",
     "start_time": "2020-02-04T18:25:35.490685Z"
    }
   },
   "outputs": [
    {
     "data": {
      "text/plain": [
       "1"
      ]
     },
     "execution_count": 27,
     "metadata": {},
     "output_type": "execute_result"
    }
   ],
   "source": [
    "myList = [1,2,3,4]\n",
    "myList[0]"
   ]
  },
  {
   "cell_type": "code",
   "execution_count": 28,
   "metadata": {
    "ExecuteTime": {
     "end_time": "2020-02-04T18:25:36.006153Z",
     "start_time": "2020-02-04T18:25:35.996897Z"
    }
   },
   "outputs": [
    {
     "data": {
      "text/plain": [
       "4"
      ]
     },
     "execution_count": 28,
     "metadata": {},
     "output_type": "execute_result"
    }
   ],
   "source": [
    "myNewList = ['a','b','c','d']\n",
    "mylist[-1]"
   ]
  },
  {
   "cell_type": "code",
   "execution_count": 29,
   "metadata": {
    "ExecuteTime": {
     "end_time": "2020-02-04T18:25:36.501515Z",
     "start_time": "2020-02-04T18:25:36.492293Z"
    }
   },
   "outputs": [
    {
     "data": {
      "text/plain": [
       "[1, 2, 3, 4, 'a', 'b', 'c', 'd']"
      ]
     },
     "execution_count": 29,
     "metadata": {},
     "output_type": "execute_result"
    }
   ],
   "source": [
    "myWholeList = myList + myNewList\n",
    "myWholeList"
   ]
  },
  {
   "cell_type": "code",
   "execution_count": 30,
   "metadata": {
    "ExecuteTime": {
     "end_time": "2020-02-04T18:25:37.255635Z",
     "start_time": "2020-02-04T18:25:37.246154Z"
    }
   },
   "outputs": [
    {
     "data": {
      "text/plain": [
       "[1, 2, 3, 4, 1, 2, 3, 4]"
      ]
     },
     "execution_count": 30,
     "metadata": {},
     "output_type": "execute_result"
    }
   ],
   "source": [
    "myDoubleList = 2 * myList\n",
    "myDoubleList"
   ]
  },
  {
   "cell_type": "markdown",
   "metadata": {},
   "source": [
    "**Warning:** When we create a new object using an existing object, the\n",
    "new object may become an `alias` for the old object. It \"points\" back to\n",
    "the previous object, and any changes to the new placeholder also affect\n",
    "the old placeholder. The way around that is to use the `deepcopy` command,\n",
    "but we won't cover that here."
   ]
  },
  {
   "cell_type": "code",
   "execution_count": 31,
   "metadata": {
    "ExecuteTime": {
     "end_time": "2020-02-04T18:25:41.373097Z",
     "start_time": "2020-02-04T18:25:41.364030Z"
    }
   },
   "outputs": [
    {
     "data": {
      "text/plain": [
       "[1, 'x', 3, 4]"
      ]
     },
     "execution_count": 31,
     "metadata": {},
     "output_type": "execute_result"
    }
   ],
   "source": [
    "myAlias = myList\n",
    "myAlias[1] = 'x'\n",
    "myList"
   ]
  },
  {
   "cell_type": "markdown",
   "metadata": {},
   "source": [
    "## Exercise 2\n",
    "\n",
    "Create a list with the letters of your first name. Change all of the\n",
    "vowels in the list to the number 3."
   ]
  },
  {
   "cell_type": "code",
   "execution_count": null,
   "metadata": {},
   "outputs": [],
   "source": []
  },
  {
   "cell_type": "markdown",
   "metadata": {},
   "source": [
    "## Functions\n",
    "\n",
    "We use functions to define a set of commands that we want to repeat. The\n",
    "syntax for defining a function includes a name for the function, a list\n",
    "of arguments that the function will use. We can also put comments inside\n",
    "the function to let ourselves (and others) know what is going on, using\n",
    "sequence `'''`. `Python` ignores whatever is in these comments. \n",
    "The function then performs some operations, and we close\n",
    "the definition with a `return` line, that tells the function what to return\n",
    "to us. We can define new variables within the function definition that\n",
    "will only exist while the function is performing its operations. Note\n",
    "the use of indentation to let `Python` know we are inside of the function\n",
    "defintiion."
   ]
  },
  {
   "cell_type": "code",
   "execution_count": 33,
   "metadata": {
    "ExecuteTime": {
     "end_time": "2020-02-04T18:33:55.656621Z",
     "start_time": "2020-02-04T18:33:55.650181Z"
    }
   },
   "outputs": [],
   "source": [
    "def multBy2(x):\n",
    "    '''\n",
    "    Function that multiples x by 2.\n",
    "    \n",
    "    Paramaters:\n",
    "    -----------\n",
    "    x : scalar\n",
    "        Scalar to multiplied by 2.\n",
    "    Returns:\n",
    "    --------\n",
    "    y : scalar\n",
    "        The product of x and 2.\n",
    "    '''\n",
    "    \n",
    "    y = x * 2\n",
    "    \n",
    "    return y"
   ]
  },
  {
   "cell_type": "code",
   "execution_count": 34,
   "metadata": {
    "ExecuteTime": {
     "end_time": "2020-02-04T18:33:56.545563Z",
     "start_time": "2020-02-04T18:33:56.536888Z"
    }
   },
   "outputs": [
    {
     "data": {
      "text/plain": [
       "8"
      ]
     },
     "execution_count": 34,
     "metadata": {},
     "output_type": "execute_result"
    }
   ],
   "source": [
    "multBy2(4)"
   ]
  },
  {
   "cell_type": "markdown",
   "metadata": {},
   "source": [
    "**Note:** The function doesn't truly restrict the argument `x` to be a scalar."
   ]
  },
  {
   "cell_type": "code",
   "execution_count": 35,
   "metadata": {
    "ExecuteTime": {
     "end_time": "2020-02-04T18:33:58.029374Z",
     "start_time": "2020-02-04T18:33:58.021202Z"
    }
   },
   "outputs": [
    {
     "data": {
      "text/plain": [
       "'aa'"
      ]
     },
     "execution_count": 35,
     "metadata": {},
     "output_type": "execute_result"
    }
   ],
   "source": [
    "multBy2('a')"
   ]
  },
  {
   "cell_type": "markdown",
   "metadata": {},
   "source": [
    "**Note:** If we want to only allow scalars, we can use the `assert` command\n",
    "along with the `isinstance()` operator to check for scalars and stop the \n",
    "function if the argument is not a scalar."
   ]
  },
  {
   "cell_type": "code",
   "execution_count": 40,
   "metadata": {
    "ExecuteTime": {
     "end_time": "2020-02-04T18:40:32.514687Z",
     "start_time": "2020-02-04T18:40:32.507200Z"
    }
   },
   "outputs": [],
   "source": [
    "def multScalarBy2(x):\n",
    "    '''\n",
    "    Function that multiples x by 2. The argument x must be a scalar.\n",
    "    \n",
    "    Paramaters:\n",
    "    -----------\n",
    "    x : scalar\n",
    "        Scalar to multiplied by 2.\n",
    "    Returns:\n",
    "    --------\n",
    "    y : scalar\n",
    "        The product of x and 2.\n",
    "    '''\n",
    "    assert isinstance(x, (int,long,float)), 'Argument x must be a scalar'\n",
    "    \n",
    "    y = x * 2\n",
    "    \n",
    "    return y"
   ]
  },
  {
   "cell_type": "code",
   "execution_count": 42,
   "metadata": {
    "ExecuteTime": {
     "end_time": "2020-02-04T18:40:40.548451Z",
     "start_time": "2020-02-04T18:40:40.539849Z"
    }
   },
   "outputs": [
    {
     "data": {
      "text/plain": [
       "8"
      ]
     },
     "execution_count": 42,
     "metadata": {},
     "output_type": "execute_result"
    }
   ],
   "source": [
    "multScalarBy2(4)"
   ]
  },
  {
   "cell_type": "code",
   "execution_count": 43,
   "metadata": {
    "ExecuteTime": {
     "end_time": "2020-02-04T18:40:41.348329Z",
     "start_time": "2020-02-04T18:40:41.327151Z"
    }
   },
   "outputs": [
    {
     "ename": "AssertionError",
     "evalue": "Argument x must be a scalar",
     "output_type": "error",
     "traceback": [
      "\u001b[0;31m---------------------------------------------------------------------------\u001b[0m",
      "\u001b[0;31mAssertionError\u001b[0m                            Traceback (most recent call last)",
      "\u001b[0;32m<ipython-input-43-24ddbc33b224>\u001b[0m in \u001b[0;36m<module>\u001b[0;34m()\u001b[0m\n\u001b[0;32m----> 1\u001b[0;31m \u001b[0mmultScalarBy2\u001b[0m\u001b[0;34m(\u001b[0m\u001b[0;34m'a'\u001b[0m\u001b[0;34m)\u001b[0m\u001b[0;34m\u001b[0m\u001b[0m\n\u001b[0m",
      "\u001b[0;32m<ipython-input-40-9b4a3099f017>\u001b[0m in \u001b[0;36mmultScalarBy2\u001b[0;34m(x)\u001b[0m\n\u001b[1;32m     12\u001b[0m         \u001b[0mThe\u001b[0m \u001b[0mproduct\u001b[0m \u001b[0mof\u001b[0m \u001b[0mx\u001b[0m \u001b[0;32mand\u001b[0m \u001b[0;36m2.\u001b[0m\u001b[0;34m\u001b[0m\u001b[0m\n\u001b[1;32m     13\u001b[0m     '''\n\u001b[0;32m---> 14\u001b[0;31m     \u001b[0;32massert\u001b[0m \u001b[0misinstance\u001b[0m\u001b[0;34m(\u001b[0m\u001b[0mx\u001b[0m\u001b[0;34m,\u001b[0m \u001b[0;34m(\u001b[0m\u001b[0mint\u001b[0m\u001b[0;34m,\u001b[0m\u001b[0mlong\u001b[0m\u001b[0;34m,\u001b[0m\u001b[0mfloat\u001b[0m\u001b[0;34m,\u001b[0m\u001b[0mcomplex\u001b[0m\u001b[0;34m)\u001b[0m\u001b[0;34m)\u001b[0m\u001b[0;34m,\u001b[0m \u001b[0;34m'Argument x must be a scalar'\u001b[0m\u001b[0;34m\u001b[0m\u001b[0m\n\u001b[0m\u001b[1;32m     15\u001b[0m \u001b[0;34m\u001b[0m\u001b[0m\n\u001b[1;32m     16\u001b[0m     \u001b[0my\u001b[0m \u001b[0;34m=\u001b[0m \u001b[0mx\u001b[0m \u001b[0;34m*\u001b[0m \u001b[0;36m2\u001b[0m\u001b[0;34m\u001b[0m\u001b[0m\n",
      "\u001b[0;31mAssertionError\u001b[0m: Argument x must be a scalar"
     ]
    }
   ],
   "source": [
    "multScalarBy2('a')"
   ]
  },
  {
   "cell_type": "markdown",
   "metadata": {},
   "source": [
    "## Classes\n",
    "\n",
    "The finaly type of tool we will use is a `class`. A class can be thought of\n",
    "as a recipe or a blueprint. It sets the structure and rules for an ojbect.\n",
    "After that, we can create multiple instances of this `class`. Each instance\n",
    "is it's own object, and can have specific attributes and features, but it\n",
    "will follow the general rules of the class.\n",
    "\n",
    "A `class` can specify what will happen each time an instance of a `class` is\n",
    "created or \"initialized.\" It can also define specific attributes that an\n",
    "instance of the class will have. Think of these as sub-objects. The `class`\n",
    "can also specify `methods` which are functions attached to a class.\n",
    "\n",
    "Below we will create a general class of multiplier. Then we will create two\n",
    "instances of the class, which will be different, but will follow the same\n",
    "general set of rules."
   ]
  },
  {
   "cell_type": "code",
   "execution_count": 45,
   "metadata": {
    "ExecuteTime": {
     "end_time": "2020-02-04T18:50:08.200173Z",
     "start_time": "2020-02-04T18:50:08.188766Z"
    }
   },
   "outputs": [],
   "source": [
    "class multiplier(object):\n",
    "    '''\n",
    "    A class for multiplying numbers by a specific scalar\n",
    "    '''\n",
    "    \n",
    "    className = 'multiplier'\n",
    "    \n",
    "    def __init__(self, a = 1):\n",
    "        '''\n",
    "        Initialization rules for a multiplier.\n",
    "        \n",
    "        Parameters:\n",
    "        -----------\n",
    "        a : scalar\n",
    "            This is the scalar by which the multipier scales numbers.\n",
    "            \n",
    "        Returns:\n",
    "        --------\n",
    "        None\n",
    "        '''\n",
    "        self.a = a\n",
    "    \n",
    "    def mult(self, x):\n",
    "        '''\n",
    "        A method (function) used by the multiplier to multiply numbers.\n",
    "        \n",
    "        Parameters:\n",
    "        -----------\n",
    "        x : scalar\n",
    "            The number to be multiplied\n",
    "        \n",
    "        Returns:\n",
    "        --------\n",
    "        y : scalar\n",
    "            The product of x and the scalar a.\n",
    "        '''\n",
    "        \n",
    "        y = x * self.a\n",
    "        \n",
    "        return y"
   ]
  },
  {
   "cell_type": "markdown",
   "metadata": {},
   "source": [
    "### Notes\n",
    "\n",
    "The first type of attribute we created `className` is the same for all\n",
    "instance of the class. The next method `__init__` is a special method (function)\n",
    "that gets called when a new instance of the class is create. Note that\n",
    "the first argument of the method is `self`, which lets the function access\n",
    "features unique to a given instance of a class. We create an instance-specific\n",
    "attribute `self.a` that could be difference for each instance. Finally,\n",
    "the method `mult` performs multiplication on an argument `x`. It also has\n",
    "`self` as its first argument so that it can access `self.a`. Below we\n",
    "create two distinct instances of the `multiplier` class. Notice we feed\n",
    "a value for `a` when we first create the instance. If we leave the argument\n",
    "unspecified, the default value for `a` would have been 1, which we have\n",
    "specified above when we put `a = 1` in the `__init__` method above."
   ]
  },
  {
   "cell_type": "code",
   "execution_count": 46,
   "metadata": {
    "ExecuteTime": {
     "end_time": "2020-02-04T18:50:43.320502Z",
     "start_time": "2020-02-04T18:50:43.311374Z"
    }
   },
   "outputs": [
    {
     "data": {
      "text/plain": [
       "4"
      ]
     },
     "execution_count": 46,
     "metadata": {},
     "output_type": "execute_result"
    }
   ],
   "source": [
    "multA = multiplier(4)\n",
    "multA.a"
   ]
  },
  {
   "cell_type": "code",
   "execution_count": 47,
   "metadata": {
    "ExecuteTime": {
     "end_time": "2020-02-04T18:50:55.424194Z",
     "start_time": "2020-02-04T18:50:55.415597Z"
    }
   },
   "outputs": [
    {
     "data": {
      "text/plain": [
       "'multiplier'"
      ]
     },
     "execution_count": 47,
     "metadata": {},
     "output_type": "execute_result"
    }
   ],
   "source": [
    "multA.className"
   ]
  },
  {
   "cell_type": "code",
   "execution_count": 48,
   "metadata": {
    "ExecuteTime": {
     "end_time": "2020-02-04T18:51:18.250540Z",
     "start_time": "2020-02-04T18:51:18.242082Z"
    }
   },
   "outputs": [
    {
     "data": {
      "text/plain": [
       "8"
      ]
     },
     "execution_count": 48,
     "metadata": {},
     "output_type": "execute_result"
    }
   ],
   "source": [
    "multA.mult(2)"
   ]
  },
  {
   "cell_type": "code",
   "execution_count": 49,
   "metadata": {
    "ExecuteTime": {
     "end_time": "2020-02-04T18:52:07.527508Z",
     "start_time": "2020-02-04T18:52:07.518627Z"
    }
   },
   "outputs": [
    {
     "data": {
      "text/plain": [
       "5"
      ]
     },
     "execution_count": 49,
     "metadata": {},
     "output_type": "execute_result"
    }
   ],
   "source": [
    "multB = multiplier(5)\n",
    "multB.a"
   ]
  },
  {
   "cell_type": "code",
   "execution_count": 50,
   "metadata": {
    "ExecuteTime": {
     "end_time": "2020-02-04T18:52:08.616515Z",
     "start_time": "2020-02-04T18:52:08.608521Z"
    }
   },
   "outputs": [
    {
     "data": {
      "text/plain": [
       "'multiplier'"
      ]
     },
     "execution_count": 50,
     "metadata": {},
     "output_type": "execute_result"
    }
   ],
   "source": [
    "multB.className"
   ]
  },
  {
   "cell_type": "code",
   "execution_count": 51,
   "metadata": {
    "ExecuteTime": {
     "end_time": "2020-02-04T18:52:16.435443Z",
     "start_time": "2020-02-04T18:52:16.427664Z"
    }
   },
   "outputs": [
    {
     "data": {
      "text/plain": [
       "10"
      ]
     },
     "execution_count": 51,
     "metadata": {},
     "output_type": "execute_result"
    }
   ],
   "source": [
    "multB.mult(2)"
   ]
  },
  {
   "cell_type": "code",
   "execution_count": 1,
   "metadata": {
    "ExecuteTime": {
     "end_time": "2020-02-04T06:29:29.509725Z",
     "start_time": "2020-02-04T06:29:29.473251Z"
    }
   },
   "outputs": [],
   "source": [
    "class consumer(object):\n",
    "    '''\n",
    "    Consumer who chooses optimal x1 and x2 given utility function:\n",
    "    \n",
    "        u(x1,x2) = x1^(a) * x2^(1-a)\n",
    "        \n",
    "    subject to a budget constraint:\n",
    "    \n",
    "        p1*x1 + p2*x2 = I\n",
    "    '''\n",
    "    def __init__(self, a = 0.5, I = 1):\n",
    "        '''\n",
    "        Initialization function for agent.\n",
    "        \n",
    "        Parameters:\n",
    "        -----------\n",
    "        a : scalar\n",
    "            Preference parameter, representing relative preference\n",
    "            for x1. Must be in (0,1).\n",
    "            \n",
    "        p1 : scalar\n",
    "            Price for x1\n",
    "            \n",
    "        p2 : scalar\n",
    "            Price for x2\n",
    "            \n",
    "        I : scalar\n",
    "            Income\n",
    "        \n",
    "        Return:\n",
    "        -------\n",
    "        None\n",
    "        '''\n",
    "        \n",
    "        assert 0 < a < 1, 'Parameter a must be in (0,1)'\n",
    "        \n",
    "        self.a = a\n",
    "        self.I = I\n",
    "        \n",
    "    def u(self, x1, x2):\n",
    "        '''\n",
    "        Utility function.\n",
    "        \n",
    "        Parameters:\n",
    "        -----------\n",
    "        x1 : scalar\n",
    "            Amount of x1\n",
    "            \n",
    "        x2 : scalar\n",
    "            Amount of x2\n",
    "            \n",
    "        Return:\n",
    "        -------\n",
    "        u : scalar\n",
    "            Utility at x1 and x2\n",
    "        '''\n",
    "        \n",
    "        u = x1**(self.a)*x2**(1-self.a)\n",
    "        \n",
    "        return u\n",
    "    \n",
    "    def x1(self, p1, p2):\n",
    "        '''\n",
    "        Demand function for x1.\n",
    "        \n",
    "        Parameters:\n",
    "        -----------\n",
    "        p1 : scalar\n",
    "            Price for good 1.\n",
    "            \n",
    "        p2 : scalar\n",
    "            Price for good 2.\n",
    "            \n",
    "        Return:\n",
    "        -------\n",
    "        x1 : scalar\n",
    "            Demand for x1.\n",
    "        '''\n",
    "        x1 = self.a*self.I/p1\n",
    "        \n",
    "        return x1\n",
    "    \n",
    "    def x2(self, p1, p2):\n",
    "        '''\n",
    "        Demand function for x2.\n",
    "        \n",
    "        Parameters:\n",
    "        -----------\n",
    "        p1 : scalar\n",
    "            Price for good 1.\n",
    "            \n",
    "        p2 : scalar\n",
    "            Price for good 2.\n",
    "            \n",
    "        Return:\n",
    "        -------\n",
    "        x2 : scalar\n",
    "            Demand for x2.\n",
    "        '''\n",
    "        x2 = (1-self.a)*self.I/p2\n",
    "        \n",
    "        return x2"
   ]
  },
  {
   "cell_type": "code",
   "execution_count": null,
   "metadata": {},
   "outputs": [],
   "source": []
  }
 ],
 "metadata": {
  "kernelspec": {
   "display_name": "Python 2",
   "language": "python",
   "name": "python2"
  },
  "language_info": {
   "codemirror_mode": {
    "name": "ipython",
    "version": 2
   },
   "file_extension": ".py",
   "mimetype": "text/x-python",
   "name": "python",
   "nbconvert_exporter": "python",
   "pygments_lexer": "ipython2",
   "version": "2.7.15"
  },
  "toc": {
   "base_numbering": 1,
   "nav_menu": {},
   "number_sections": false,
   "sideBar": true,
   "skip_h1_title": true,
   "title_cell": "Table of Contents",
   "title_sidebar": "Contents",
   "toc_cell": false,
   "toc_position": {},
   "toc_section_display": true,
   "toc_window_display": false
  },
  "varInspector": {
   "cols": {
    "lenName": 16,
    "lenType": 16,
    "lenVar": 40
   },
   "kernels_config": {
    "python": {
     "delete_cmd_postfix": "",
     "delete_cmd_prefix": "del ",
     "library": "var_list.py",
     "varRefreshCmd": "print(var_dic_list())"
    },
    "r": {
     "delete_cmd_postfix": ") ",
     "delete_cmd_prefix": "rm(",
     "library": "var_list.r",
     "varRefreshCmd": "cat(var_dic_list()) "
    }
   },
   "types_to_exclude": [
    "module",
    "function",
    "builtin_function_or_method",
    "instance",
    "_Feature"
   ],
   "window_display": false
  }
 },
 "nbformat": 4,
 "nbformat_minor": 2
}
